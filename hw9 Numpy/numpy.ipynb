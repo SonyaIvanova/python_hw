{
 "cells": [
  {
   "cell_type": "markdown",
   "metadata": {},
   "source": [
    "### Задание 1\n",
    "Создайте numpy array с элементами от числа N до 0 (например, для N = 10 это будет array([9, 8, 7, 6, 5, 4, 3, 2, 1, 0])).\n",
    "\n"
   ]
  },
  {
   "cell_type": "code",
   "execution_count": 36,
   "metadata": {},
   "outputs": [
    {
     "name": "stdout",
     "output_type": "stream",
     "text": [
      "[4 3 2 1 0]\n"
     ]
    }
   ],
   "source": [
    "import numpy as np\n",
    "\n",
    "def create_array(N):\n",
    "    arr=np.arange(N)\n",
    "    return(arr[::-1])\n",
    "\n",
    "print(create_array(5))"
   ]
  },
  {
   "cell_type": "markdown",
   "metadata": {},
   "source": [
    "### Задание 2\n",
    "Создайте диагональную матрицу с элементами от N до 0. Посчитайте сумму ее значений на диагонали.\n",
    "\n"
   ]
  },
  {
   "cell_type": "code",
   "execution_count": 47,
   "metadata": {},
   "outputs": [
    {
     "name": "stdout",
     "output_type": "stream",
     "text": [
      "Диагональная матрица:\n",
      "[[10  0  0  0  0  0  0  0  0  0  0]\n",
      " [ 0  9  0  0  0  0  0  0  0  0  0]\n",
      " [ 0  0  8  0  0  0  0  0  0  0  0]\n",
      " [ 0  0  0  7  0  0  0  0  0  0  0]\n",
      " [ 0  0  0  0  6  0  0  0  0  0  0]\n",
      " [ 0  0  0  0  0  5  0  0  0  0  0]\n",
      " [ 0  0  0  0  0  0  4  0  0  0  0]\n",
      " [ 0  0  0  0  0  0  0  3  0  0  0]\n",
      " [ 0  0  0  0  0  0  0  0  2  0  0]\n",
      " [ 0  0  0  0  0  0  0  0  0  1  0]\n",
      " [ 0  0  0  0  0  0  0  0  0  0  0]]\n",
      "Сумма значений по диагонали = 55\n"
     ]
    }
   ],
   "source": [
    "import numpy as np\n",
    "def create_matrix(N):\n",
    "    x=np.diag(create_array(10+1), k=0)\n",
    "    return x, sum(np.diagonal(x))\n",
    "matrix, sum_diag = create_matrix(10)\n",
    "print(f'Диагональная матрица:\\n{matrix}\\nСумма значений по диагонали = {sum_diag}')"
   ]
  },
  {
   "cell_type": "markdown",
   "metadata": {},
   "source": [
    "### Задание 3\n",
    "Решите систему уравнений:\n",
    "4x + 2y + z = 4\n",
    "x + 3y = 12\n",
    "5y + 4z = -3"
   ]
  },
  {
   "cell_type": "code",
   "execution_count": 75,
   "metadata": {},
   "outputs": [
    {
     "name": "stdout",
     "output_type": "stream",
     "text": [
      "x=0.47, y=3.84, z=-5.56\n"
     ]
    },
    {
     "data": {
      "text/plain": [
       "True"
      ]
     },
     "execution_count": 75,
     "metadata": {},
     "output_type": "execute_result"
    }
   ],
   "source": [
    "from numpy import linalg\n",
    "a = np.array( \n",
    "    [\n",
    "        [4, 2,1],\n",
    "        [1,3, 0],\n",
    "        [0,5,4]\n",
    "    ] \n",
    ")\n",
    "b=np.array([4,12,-3])\n",
    "\n",
    "x,y,z =linalg.solve(a, b)\n",
    "print(f'x={round(x,2)}, y={round(y,2)}, z={round(z,2)}')\n",
    "np.allclose( np.dot(a, np.array([x,y,z])), b ) #проверка решения"
   ]
  },
  {
   "cell_type": "markdown",
   "metadata": {},
   "source": [
    "### Задание 4\n",
    "В материалах занятия раздел “Задача 4 домашнего задания”\n"
   ]
  },
  {
   "cell_type": "code",
   "execution_count": 109,
   "metadata": {},
   "outputs": [
    {
     "name": "stdout",
     "output_type": "stream",
     "text": [
      "Cамый похожий пользователь id 8\n"
     ]
    }
   ],
   "source": [
    "users_stats = np.array(\n",
    "    [\n",
    "        [1, 2, 1, 0, 0, 0, 0],\n",
    "        [2, 1, 1, 2, 1, 0, 0],\n",
    "        [3, 2, 0, 1, 0, 0, 0],\n",
    "        [4, 1, 1, 2, 1, 0, 1],\n",
    "        [5, 0, 0, 1, 2, 0, 0],\n",
    "        [6, 0, 0, 0, 0, 0, 5],\n",
    "        [7, 1, 0, 0, 0, 0, 0],\n",
    "        [8, 0, 1, 1, 0, 0, 0],\n",
    "        [9, 0, 0, 0, 1, 1, 3],\n",
    "        [10, 1, 0, 0, 2, 1, 4]\n",
    "    ], \n",
    "    np.int32\n",
    ")\n",
    "next_user_stats = np.array([0, 1, 2, 0, 0, 0])\n",
    "max_cos=0\n",
    "for users_stat in users_stats:\n",
    "    aLength = np.linalg.norm( next_user_stats )\n",
    "    bLength = np.linalg.norm( users_stat[1::])\n",
    "    cos = np.dot( next_user_stats, users_stat[1::] ) / ( aLength * bLength )\n",
    "    if cos > max_cos:\n",
    "        max_cos=cos\n",
    "        similar_user=users_stat[0]\n",
    "\n",
    "print(f'Cамый похожий пользователь id {similar_user}')"
   ]
  }
 ],
 "metadata": {
  "kernelspec": {
   "display_name": "Python 3",
   "language": "python",
   "name": "python3"
  },
  "language_info": {
   "codemirror_mode": {
    "name": "ipython",
    "version": 3
   },
   "file_extension": ".py",
   "mimetype": "text/x-python",
   "name": "python",
   "nbconvert_exporter": "python",
   "pygments_lexer": "ipython3",
   "version": "3.8.5"
  }
 },
 "nbformat": 4,
 "nbformat_minor": 4
}
