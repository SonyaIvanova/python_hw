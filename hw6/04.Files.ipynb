{
 "cells": [
  {
   "cell_type": "code",
   "execution_count": 60,
   "metadata": {},
   "outputs": [],
   "source": [
    "import json\n",
    "purchases={}\n",
    "purchase_log = open('purchase_log.txt', 'r', encoding='utf-8')\n",
    "for line in purchase_log:\n",
    "    dict_in_string=json.loads(line)\n",
    "    purchases[dict_in_string['user_id']]= dict_in_string['category']\n",
    "purchase_log.close()\n",
    "with open('funnel.csv', 'w') as funnel:\n",
    "    with open('visit_log.csv', 'r', encoding='utf-8') as visit_log:\n",
    "        for line in visit_log:\n",
    "            user_id=line.strip().split(',')[0]\n",
    "            source=line.strip().split(',')[1]\n",
    "            if purchases.get(user_id):\n",
    "                funnel.write(user_id+','+source+','+purchases[user_id]+'\\n')\n"
   ]
  }
 ],
 "metadata": {
  "kernelspec": {
   "display_name": "Python 3",
   "language": "python",
   "name": "python3"
  },
  "language_info": {
   "codemirror_mode": {
    "name": "ipython",
    "version": 3
   },
   "file_extension": ".py",
   "mimetype": "text/x-python",
   "name": "python",
   "nbconvert_exporter": "python",
   "pygments_lexer": "ipython3",
   "version": "3.8.5"
  }
 },
 "nbformat": 4,
 "nbformat_minor": 4
}
