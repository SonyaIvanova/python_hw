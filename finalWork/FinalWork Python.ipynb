{
 "cells": [
  {
   "cell_type": "markdown",
   "metadata": {},
   "source": [
    "### Задание\n",
    "Дан файл HR.csv с данными по опросу уровня удовлетворенности сотрудниками работой.Файл доступен тут\n",
    "\n",
    "https://drive.google.com/file/d/1INgo03nal-vwFJe7Lec5vOUtOwfJdUr1/view?usp=sharing\n",
    "* satisfaction_level - Уровень удовлетворенности работой\n",
    "* Last_evaluation - Время с момента последней оценки в годах\n",
    "* number_projects  Количество проектов, выполненных за время работы\n",
    "* average_monthly_hours​ - Среднее количество часов на рабочем месте в месяц\n",
    "* time_spend_company​ - Стаж работы в компании в годах\n",
    "* work_accident​ - Происходили ли несчастные случаи на рабочем месте с сотрудником\n",
    "* left​ - уволился ли сотрудник\n",
    "* promotion_last_5years​ - повышался ли сотрудник за последние пять лет\n",
    "* department ​- отдел в котором работает сотрудник\n",
    "* salary​ - относительный уровень зарплаты"
   ]
  },
  {
   "cell_type": "markdown",
   "metadata": {},
   "source": [
    "1. Загрузите файл HR.csv в pandas dataframe"
   ]
  },
  {
   "cell_type": "code",
   "execution_count": 84,
   "metadata": {},
   "outputs": [],
   "source": [
    "import pandas as pd\n",
    "import numpy as np\n",
    "import seaborn as sns\n",
    "import matplotlib.pyplot as plt"
   ]
  },
  {
   "cell_type": "code",
   "execution_count": 85,
   "metadata": {},
   "outputs": [
    {
     "data": {
      "text/plain": [
       "array(['low', 'medium', 'high'], dtype=object)"
      ]
     },
     "execution_count": 85,
     "metadata": {},
     "output_type": "execute_result"
    }
   ],
   "source": [
    "df_hr=pd.read_csv('hr.csv')\n",
    "\n",
    "dict_title_hr={'satisfaction_level':'Уровень удовлетворенности работой',\n",
    "'last_evaluation':'Время с момента последней оценки в годах',\n",
    "'number_project': 'Количество проектов, выполненных за время работы',\n",
    "'average_montly_hours':'Среднее количество часов на рабочем месте в месяц',\n",
    "'time_spend_company':'Стаж работы в компании в годах',\n",
    "'Work_accident':'Происходили ли несчастные случаи на рабочем месте с сотрудником',\n",
    "'left':'Уволился ли сотрудник',\n",
    "'promotion_last_5years':'Повышался ли сотрудник за последние пять лет',\n",
    "'department':'Отдел в котором работает сотрудник',\n",
    "'salary':'Относительный уровень зарплаты'}\n",
    "# print(df_hr.info())\n",
    "df_hr.head()\n",
    "# df_hr.shape[1]\n",
    "df_hr.salary.unique()"
   ]
  },
  {
   "cell_type": "markdown",
   "metadata": {},
   "source": [
    "2. Рассчитайте основные статистики для переменных(среднее,медиана,мода,мин/макс,сред.отклонение)."
   ]
  },
  {
   "cell_type": "code",
   "execution_count": 86,
   "metadata": {},
   "outputs": [
    {
     "name": "stdout",
     "output_type": "stream",
     "text": [
      "   index                                            Колонка   Макс    Мин  \\\n",
      "0      0                  Уровень удовлетворенности работой    1.0   0.09   \n",
      "1      0           Время с момента последней оценки в годах    1.0   0.36   \n",
      "2      0   Количество проектов, выполненных за время работы    7.0   2.00   \n",
      "3      0  Среднее количество часов на рабочем месте в месяц  310.0  96.00   \n",
      "4      0                     Стаж работы в компании в годах   10.0   2.00   \n",
      "5      0  Происходили ли несчастные случаи на рабочем ме...    1.0   0.00   \n",
      "6      0                              Уволился ли сотрудник    1.0   0.00   \n",
      "7      0       Повышался ли сотрудник за последние пять лет    1.0   0.00   \n",
      "8      0                 Отдел в котором работает сотрудник    NaN    NaN   \n",
      "9      0                     Относительный уровень зарплаты    NaN    NaN   \n",
      "\n",
      "     Mean   Мода  Медиана    СКО  \n",
      "0    0.61    0.1     0.64   0.25  \n",
      "1    0.72   0.55     0.72   0.17  \n",
      "2    3.80      4     4.00   1.23  \n",
      "3  201.05    135   200.00  49.94  \n",
      "4    3.50      3     3.00   1.46  \n",
      "5    0.14      0     0.00   0.35  \n",
      "6    0.24      0     0.00   0.43  \n",
      "7    0.02      0     0.00   0.14  \n",
      "8     NaN  sales      NaN    NaN  \n",
      "9     NaN    low      NaN    NaN  \n"
     ]
    }
   ],
   "source": [
    "df_stat=pd.DataFrame()\n",
    "\n",
    "for num_col in range(df_hr.shape[1]):\n",
    "    df=df_hr.iloc[:,num_col]\n",
    "    if df.dtype==np.float64 or df.dtype==np.int64:\n",
    "        row={'Колонка':dict_title_hr[df_hr.columns[num_col]],'Макс':df.max(), 'Мин':df.min(),'Mean':round(df.mean(),2), 'Мода':df.mode()[0],'Медиана':df.median(), 'СКО':round(df.std(),2) }\n",
    "    else:\n",
    "        row={'Колонка':dict_title_hr[df_hr.columns[num_col]],'Макс':np.nan, 'Мин':np.nan,'Mean':np.nan, 'Мода':df.mode()[0],'Медиана':np.nan, 'СКО':np.nan}\n",
    "    row=pd.DataFrame([row])\n",
    "    df_stat=pd.concat([df_stat,row])\n",
    "print(df_stat.reset_index())"
   ]
  },
  {
   "cell_type": "markdown",
   "metadata": {},
   "source": [
    "3. Рассчитайте и визуализировать корреляционную матрицу для количественных переменных.Определите две самые скоррелированные и две наименее скоррелированные переменные."
   ]
  },
  {
   "cell_type": "code",
   "execution_count": 87,
   "metadata": {},
   "outputs": [
    {
     "name": "stdout",
     "output_type": "stream",
     "text": [
      " Наименее скоррелированные переменные \" Стаж работы в компании в годах \" и \" Происходили ли несчастные случаи на рабочем месте с сотрудником \" 0.002 \n",
      " Наиболее скоррелированные переменные Количество проектов, выполненных за время работы \" и \" Происходили ли несчастные случаи на рабочем месте с сотрудником \" 0.417\n"
     ]
    }
   ],
   "source": [
    "# sns.heatmap(df_hr.corr())\n",
    "# plt.show()\n",
    "min_=pd.DataFrame()\n",
    "\n",
    "max_=pd.DataFrame()\n",
    "matrix=df_hr.corr()\n",
    "\n",
    "min_l=str(matrix['satisfaction_level'].min())\n",
    "\n",
    "matrix2=matrix.apply(lambda x : x**2)\n",
    "matrix2.index.name = 'Column2'\n",
    "matrix2=matrix2.reset_index()\n",
    "for col in range(0,matrix2.shape[1]):\n",
    "    extr_temp=matrix2[matrix2.columns[col]].min()\n",
    "    matrix_temp=matrix2.query(matrix2.columns[col]+'=='+str(extr_temp))\n",
    "\n",
    "    for row_extr in range(matrix_temp.shape[0]):\n",
    "          min_=pd.concat([min_,pd.DataFrame([{'column1':matrix2.columns[col],'column2':matrix_temp.iloc[row_extr,0],'value':extr_temp**0.5}])])\n",
    "    extr_temp=matrix2[matrix2.columns[col]]\n",
    "    extr_temp=extr_temp.loc[extr_temp!=1].max()\n",
    "    matrix_temp=matrix2.query(matrix2.columns[col]+'=='+str(extr_temp))\n",
    "    for row_extr in range(matrix_temp.shape[0]):\n",
    "          max_=pd.concat([max_,pd.DataFrame([{'column1':matrix2.columns[col],'column2':matrix_temp.iloc[row_extr,0],'value':extr_temp**0.5}])])\n",
    "min_=min_.sort_values('value').head(1)\n",
    "max_=max_.sort_values('value',ascending=False).head(1)\n",
    "\n",
    "print(' Наименее скоррелированные переменные \"',dict_title_hr[min_['column1'][0]],'\" и \"', dict_title_hr[min_['column2'][0]],'\"',round(min_['value'][0],3),'\\n',\n",
    "      'Наиболее скоррелированные переменные',dict_title_hr[max_['column1'][0]],'\" и \"',dict_title_hr[min_['column2'][0]],'\"',round(max_['value'][0],3))\n"
   ]
  },
  {
   "cell_type": "markdown",
   "metadata": {},
   "source": [
    "4. Рассчитайте сколько сотрудников работает в каждом департаменте."
   ]
  },
  {
   "cell_type": "code",
   "execution_count": 88,
   "metadata": {},
   "outputs": [
    {
     "data": {
      "text/html": [
       "<div>\n",
       "<style scoped>\n",
       "    .dataframe tbody tr th:only-of-type {\n",
       "        vertical-align: middle;\n",
       "    }\n",
       "\n",
       "    .dataframe tbody tr th {\n",
       "        vertical-align: top;\n",
       "    }\n",
       "\n",
       "    .dataframe thead th {\n",
       "        text-align: right;\n",
       "    }\n",
       "</style>\n",
       "<table border=\"1\" class=\"dataframe\">\n",
       "  <thead>\n",
       "    <tr style=\"text-align: right;\">\n",
       "      <th></th>\n",
       "      <th>Департамент</th>\n",
       "      <th>Количество сотрудников</th>\n",
       "    </tr>\n",
       "  </thead>\n",
       "  <tbody>\n",
       "    <tr>\n",
       "      <th>7</th>\n",
       "      <td>sales</td>\n",
       "      <td>4140</td>\n",
       "    </tr>\n",
       "    <tr>\n",
       "      <th>9</th>\n",
       "      <td>technical</td>\n",
       "      <td>2720</td>\n",
       "    </tr>\n",
       "    <tr>\n",
       "      <th>8</th>\n",
       "      <td>support</td>\n",
       "      <td>2229</td>\n",
       "    </tr>\n",
       "    <tr>\n",
       "      <th>0</th>\n",
       "      <td>IT</td>\n",
       "      <td>1227</td>\n",
       "    </tr>\n",
       "    <tr>\n",
       "      <th>6</th>\n",
       "      <td>product_mng</td>\n",
       "      <td>902</td>\n",
       "    </tr>\n",
       "    <tr>\n",
       "      <th>5</th>\n",
       "      <td>marketing</td>\n",
       "      <td>858</td>\n",
       "    </tr>\n",
       "    <tr>\n",
       "      <th>1</th>\n",
       "      <td>RandD</td>\n",
       "      <td>787</td>\n",
       "    </tr>\n",
       "    <tr>\n",
       "      <th>2</th>\n",
       "      <td>accounting</td>\n",
       "      <td>767</td>\n",
       "    </tr>\n",
       "    <tr>\n",
       "      <th>3</th>\n",
       "      <td>hr</td>\n",
       "      <td>739</td>\n",
       "    </tr>\n",
       "    <tr>\n",
       "      <th>4</th>\n",
       "      <td>management</td>\n",
       "      <td>630</td>\n",
       "    </tr>\n",
       "  </tbody>\n",
       "</table>\n",
       "</div>"
      ],
      "text/plain": [
       "   Департамент  Количество сотрудников\n",
       "7        sales                    4140\n",
       "9    technical                    2720\n",
       "8      support                    2229\n",
       "0           IT                    1227\n",
       "6  product_mng                     902\n",
       "5    marketing                     858\n",
       "1        RandD                     787\n",
       "2   accounting                     767\n",
       "3           hr                     739\n",
       "4   management                     630"
      ]
     },
     "execution_count": 88,
     "metadata": {},
     "output_type": "execute_result"
    }
   ],
   "source": [
    "df_hr.groupby('department')['left'].count().reset_index().sort_values(by='left',ascending=False).\\\n",
    "rename({'department':\"Департамент\",'left':\"Количество сотрудников\"},axis='columns')"
   ]
  },
  {
   "cell_type": "markdown",
   "metadata": {},
   "source": [
    "5. Показать распределение сотрудников по зарплатам."
   ]
  },
  {
   "cell_type": "code",
   "execution_count": 89,
   "metadata": {},
   "outputs": [
    {
     "data": {
      "text/html": [
       "<div>\n",
       "<style scoped>\n",
       "    .dataframe tbody tr th:only-of-type {\n",
       "        vertical-align: middle;\n",
       "    }\n",
       "\n",
       "    .dataframe tbody tr th {\n",
       "        vertical-align: top;\n",
       "    }\n",
       "\n",
       "    .dataframe thead th {\n",
       "        text-align: right;\n",
       "    }\n",
       "</style>\n",
       "<table border=\"1\" class=\"dataframe\">\n",
       "  <thead>\n",
       "    <tr style=\"text-align: right;\">\n",
       "      <th></th>\n",
       "      <th>Зарплата</th>\n",
       "      <th>Количество сотрудников</th>\n",
       "    </tr>\n",
       "  </thead>\n",
       "  <tbody>\n",
       "    <tr>\n",
       "      <th>1</th>\n",
       "      <td>low</td>\n",
       "      <td>7316</td>\n",
       "    </tr>\n",
       "    <tr>\n",
       "      <th>2</th>\n",
       "      <td>medium</td>\n",
       "      <td>6446</td>\n",
       "    </tr>\n",
       "    <tr>\n",
       "      <th>0</th>\n",
       "      <td>high</td>\n",
       "      <td>1237</td>\n",
       "    </tr>\n",
       "  </tbody>\n",
       "</table>\n",
       "</div>"
      ],
      "text/plain": [
       "  Зарплата  Количество сотрудников\n",
       "1      low                    7316\n",
       "2   medium                    6446\n",
       "0     high                    1237"
      ]
     },
     "execution_count": 89,
     "metadata": {},
     "output_type": "execute_result"
    }
   ],
   "source": [
    "df_hr.groupby('salary')['left'].count().reset_index().sort_values(by='left',ascending=False).\\\n",
    "rename({'salary':\"Зарплата\",'left':\"Количество сотрудников\"},axis='columns')"
   ]
  },
  {
   "cell_type": "markdown",
   "metadata": {},
   "source": [
    "6. Показать распределение сотрудников по зарплатам в каждом  департаменте по отдельности."
   ]
  },
  {
   "cell_type": "code",
   "execution_count": 90,
   "metadata": {},
   "outputs": [
    {
     "data": {
      "text/html": [
       "<div>\n",
       "<style scoped>\n",
       "    .dataframe tbody tr th:only-of-type {\n",
       "        vertical-align: middle;\n",
       "    }\n",
       "\n",
       "    .dataframe tbody tr th {\n",
       "        vertical-align: top;\n",
       "    }\n",
       "\n",
       "    .dataframe thead th {\n",
       "        text-align: right;\n",
       "    }\n",
       "</style>\n",
       "<table border=\"1\" class=\"dataframe\">\n",
       "  <thead>\n",
       "    <tr style=\"text-align: right;\">\n",
       "      <th></th>\n",
       "      <th>Департамент</th>\n",
       "      <th>Зарплата</th>\n",
       "      <th>Количество сотрудников</th>\n",
       "    </tr>\n",
       "  </thead>\n",
       "  <tbody>\n",
       "    <tr>\n",
       "      <th>22</th>\n",
       "      <td>sales</td>\n",
       "      <td>low</td>\n",
       "      <td>2099</td>\n",
       "    </tr>\n",
       "    <tr>\n",
       "      <th>23</th>\n",
       "      <td>sales</td>\n",
       "      <td>medium</td>\n",
       "      <td>1772</td>\n",
       "    </tr>\n",
       "    <tr>\n",
       "      <th>28</th>\n",
       "      <td>technical</td>\n",
       "      <td>low</td>\n",
       "      <td>1372</td>\n",
       "    </tr>\n",
       "    <tr>\n",
       "      <th>29</th>\n",
       "      <td>technical</td>\n",
       "      <td>medium</td>\n",
       "      <td>1147</td>\n",
       "    </tr>\n",
       "    <tr>\n",
       "      <th>25</th>\n",
       "      <td>support</td>\n",
       "      <td>low</td>\n",
       "      <td>1146</td>\n",
       "    </tr>\n",
       "    <tr>\n",
       "      <th>26</th>\n",
       "      <td>support</td>\n",
       "      <td>medium</td>\n",
       "      <td>942</td>\n",
       "    </tr>\n",
       "    <tr>\n",
       "      <th>1</th>\n",
       "      <td>IT</td>\n",
       "      <td>low</td>\n",
       "      <td>609</td>\n",
       "    </tr>\n",
       "    <tr>\n",
       "      <th>2</th>\n",
       "      <td>IT</td>\n",
       "      <td>medium</td>\n",
       "      <td>535</td>\n",
       "    </tr>\n",
       "    <tr>\n",
       "      <th>19</th>\n",
       "      <td>product_mng</td>\n",
       "      <td>low</td>\n",
       "      <td>451</td>\n",
       "    </tr>\n",
       "    <tr>\n",
       "      <th>16</th>\n",
       "      <td>marketing</td>\n",
       "      <td>low</td>\n",
       "      <td>402</td>\n",
       "    </tr>\n",
       "    <tr>\n",
       "      <th>20</th>\n",
       "      <td>product_mng</td>\n",
       "      <td>medium</td>\n",
       "      <td>383</td>\n",
       "    </tr>\n",
       "    <tr>\n",
       "      <th>17</th>\n",
       "      <td>marketing</td>\n",
       "      <td>medium</td>\n",
       "      <td>376</td>\n",
       "    </tr>\n",
       "    <tr>\n",
       "      <th>5</th>\n",
       "      <td>RandD</td>\n",
       "      <td>medium</td>\n",
       "      <td>372</td>\n",
       "    </tr>\n",
       "    <tr>\n",
       "      <th>4</th>\n",
       "      <td>RandD</td>\n",
       "      <td>low</td>\n",
       "      <td>364</td>\n",
       "    </tr>\n",
       "    <tr>\n",
       "      <th>11</th>\n",
       "      <td>hr</td>\n",
       "      <td>medium</td>\n",
       "      <td>359</td>\n",
       "    </tr>\n",
       "    <tr>\n",
       "      <th>7</th>\n",
       "      <td>accounting</td>\n",
       "      <td>low</td>\n",
       "      <td>358</td>\n",
       "    </tr>\n",
       "    <tr>\n",
       "      <th>8</th>\n",
       "      <td>accounting</td>\n",
       "      <td>medium</td>\n",
       "      <td>335</td>\n",
       "    </tr>\n",
       "    <tr>\n",
       "      <th>10</th>\n",
       "      <td>hr</td>\n",
       "      <td>low</td>\n",
       "      <td>335</td>\n",
       "    </tr>\n",
       "    <tr>\n",
       "      <th>21</th>\n",
       "      <td>sales</td>\n",
       "      <td>high</td>\n",
       "      <td>269</td>\n",
       "    </tr>\n",
       "    <tr>\n",
       "      <th>14</th>\n",
       "      <td>management</td>\n",
       "      <td>medium</td>\n",
       "      <td>225</td>\n",
       "    </tr>\n",
       "    <tr>\n",
       "      <th>12</th>\n",
       "      <td>management</td>\n",
       "      <td>high</td>\n",
       "      <td>225</td>\n",
       "    </tr>\n",
       "    <tr>\n",
       "      <th>27</th>\n",
       "      <td>technical</td>\n",
       "      <td>high</td>\n",
       "      <td>201</td>\n",
       "    </tr>\n",
       "    <tr>\n",
       "      <th>13</th>\n",
       "      <td>management</td>\n",
       "      <td>low</td>\n",
       "      <td>180</td>\n",
       "    </tr>\n",
       "    <tr>\n",
       "      <th>24</th>\n",
       "      <td>support</td>\n",
       "      <td>high</td>\n",
       "      <td>141</td>\n",
       "    </tr>\n",
       "    <tr>\n",
       "      <th>0</th>\n",
       "      <td>IT</td>\n",
       "      <td>high</td>\n",
       "      <td>83</td>\n",
       "    </tr>\n",
       "    <tr>\n",
       "      <th>15</th>\n",
       "      <td>marketing</td>\n",
       "      <td>high</td>\n",
       "      <td>80</td>\n",
       "    </tr>\n",
       "    <tr>\n",
       "      <th>6</th>\n",
       "      <td>accounting</td>\n",
       "      <td>high</td>\n",
       "      <td>74</td>\n",
       "    </tr>\n",
       "    <tr>\n",
       "      <th>18</th>\n",
       "      <td>product_mng</td>\n",
       "      <td>high</td>\n",
       "      <td>68</td>\n",
       "    </tr>\n",
       "    <tr>\n",
       "      <th>3</th>\n",
       "      <td>RandD</td>\n",
       "      <td>high</td>\n",
       "      <td>51</td>\n",
       "    </tr>\n",
       "    <tr>\n",
       "      <th>9</th>\n",
       "      <td>hr</td>\n",
       "      <td>high</td>\n",
       "      <td>45</td>\n",
       "    </tr>\n",
       "  </tbody>\n",
       "</table>\n",
       "</div>"
      ],
      "text/plain": [
       "    Департамент Зарплата  Количество сотрудников\n",
       "22        sales      low                    2099\n",
       "23        sales   medium                    1772\n",
       "28    technical      low                    1372\n",
       "29    technical   medium                    1147\n",
       "25      support      low                    1146\n",
       "26      support   medium                     942\n",
       "1            IT      low                     609\n",
       "2            IT   medium                     535\n",
       "19  product_mng      low                     451\n",
       "16    marketing      low                     402\n",
       "20  product_mng   medium                     383\n",
       "17    marketing   medium                     376\n",
       "5         RandD   medium                     372\n",
       "4         RandD      low                     364\n",
       "11           hr   medium                     359\n",
       "7    accounting      low                     358\n",
       "8    accounting   medium                     335\n",
       "10           hr      low                     335\n",
       "21        sales     high                     269\n",
       "14   management   medium                     225\n",
       "12   management     high                     225\n",
       "27    technical     high                     201\n",
       "13   management      low                     180\n",
       "24      support     high                     141\n",
       "0            IT     high                      83\n",
       "15    marketing     high                      80\n",
       "6    accounting     high                      74\n",
       "18  product_mng     high                      68\n",
       "3         RandD     high                      51\n",
       "9            hr     high                      45"
      ]
     },
     "execution_count": 90,
     "metadata": {},
     "output_type": "execute_result"
    }
   ],
   "source": [
    "df_hr.groupby(['department','salary'])['left'].count()\\\n",
    ".reset_index()\\\n",
    ".sort_values(by='left',ascending=False)\\\n",
    ".rename({'department':\"Департамент\",'salary':\"Зарплата\",'left':\"Количество сотрудников\"},axis='columns')"
   ]
  },
  {
   "cell_type": "markdown",
   "metadata": {},
   "source": [
    "7. Проверить гипотезу, что сотрудники с высоким окладом проводят на работе больше времени, чем сотрудники с низким окладом"
   ]
  },
  {
   "cell_type": "code",
   "execution_count": 91,
   "metadata": {},
   "outputs": [
    {
     "name": "stdout",
     "output_type": "stream",
     "text": [
      "Анализ. \n"
     ]
    },
    {
     "data": {
      "image/png": "[encoded data removed]",
      "text/plain": [
       "<Figure size 432x288 with 1 Axes>"
      ]
     },
     "metadata": {
      "needs_background": "light"
     },
     "output_type": "display_data"
    },
    {
     "name": "stdout",
     "output_type": "stream",
     "text": [
      "    Коэффициент корреляции Спирмена  0.002 . Связь между зарплатой и времени отсутствует.\n"
     ]
    }
   ],
   "source": [
    "from scipy import stats\n",
    "def salary_to_rang(row):\n",
    "    if row.salary=='low':\n",
    "        salary_rang=1\n",
    "    elif row.salary=='medium':\n",
    "        salary_rang=2\n",
    "    else:\n",
    "        salary_rang=3\n",
    "    return salary_rang\n",
    "#dict_title_hr={'satisfaction_level':'Уровень удовлетворенности работой',\n",
    "# 'last_evaluation':'Время с момента последней оценки в годах',\n",
    "# 'number_project': 'Количество проектов, выполненных за время работы',\n",
    "# 'average_montly_hours':'Среднее количество часов на рабочем месте в месяц',\n",
    "# 'time_spend_company':'Стаж работы в компании в годах',\n",
    "# 'Work_accident':'Происходили ли несчастные случаи на рабочем месте с сотрудником',\n",
    "# 'left':'Уволился ли сотрудник',\n",
    "# 'promotion_last_5years':'Повышался ли сотрудник за последние пять лет',\n",
    "# 'department':'Отдел в котором работает сотрудник',\n",
    "# 'salary':'Относительный уровень зарплаты'}\n",
    "\n",
    "df_hr['salary_rang'] = df_hr.apply(salary_to_rang, axis=1)\n",
    "# print(df_hr)\n",
    "print('Анализ. ')\n",
    "ax= df_hr.plot(kind='scatter', y='average_montly_hours', x='salary_rang')\n",
    "ax.set_xlabel('Относительный уровень зарплаты')\n",
    "ax.set_ylabel('Среднее количество часов на рабочем месте в месяц')\n",
    "plt.show()\n",
    "coef_spearman=round(df_hr[['salary_rang', 'average_montly_hours']].corr(method='spearman').iloc[0,1],3)\n",
    "print(f'    Коэффициент корреляции Спирмена ',coef_spearman,'. Связь между зарплатой и времени отсутствует.')\n"
   ]
  },
  {
   "cell_type": "markdown",
   "metadata": {},
   "source": [
    "8. Рассчитать следующие показатели среди уволившихся и неуволившихся сотрудников (по отдельности):\n",
    "   * Доля сотрудников с повышением за последние 5 лет\n",
    "   * Средняя степень удовлетворенности\n",
    "   * Среднее количество проектов"
   ]
  },
  {
   "cell_type": "code",
   "execution_count": 92,
   "metadata": {},
   "outputs": [
    {
     "name": "stdout",
     "output_type": "stream",
     "text": [
      "Доля сотрудников с повышением за последние 5 лет среди уволившихся  =  0.01\n",
      "Cредняя степень удовлетворенности среди уволившихся  =  0.44\n",
      "Среднее количество проектов уволившихся  =  3.86\n",
      "Доля сотрудников с повышением за последние 5 лет среди работающих  =  0.03\n",
      "Cредняя степень удовлетворенности среди работающих  =  0.67\n",
      "Среднее количество проектов работающих  =  3.79\n"
     ]
    }
   ],
   "source": [
    "def task8(df,title):\n",
    "    print('Доля сотрудников с повышением за последние 5 лет среди',title,' = ', round(df.query('promotion_last_5years==1').left.count()/df.left.count(),2))\n",
    "    print('Cредняя степень удовлетворенности среди',title,' = ', round(df.satisfaction_level.mean(),2))\n",
    "    print('Среднее количество проектов',title,' = ', round(df.number_project.mean(),2))\n",
    "df_hr_left=df_hr.query('left==1')\n",
    "df_hr_work=df_hr.query('left==0')\n",
    "task8(df_hr.query('left==1'),'уволившихся')\n",
    "task8(df_hr.query('left==0'),'работающих')\n"
   ]
  },
  {
   "cell_type": "markdown",
   "metadata": {},
   "source": [
    "9. Разделить данные на тестовую и обучающую выборкиПостроить модель LDA, предсказывающую уволился лисотрудник на основе имеющихся факторов (кроме department иsalary).\n",
    "Оценить качество модели на тестовой выборки."
   ]
  },
  {
   "cell_type": "code",
   "execution_count": 93,
   "metadata": {},
   "outputs": [
    {
     "name": "stdout",
     "output_type": "stream",
     "text": [
      "Коэффициент детерминации =  0.18 Коэффициент детерминации низкий, модель низкого качества.\n"
     ]
    }
   ],
   "source": [
    "from sklearn.linear_model import LinearRegression\n",
    "from sklearn.model_selection import train_test_split\n",
    "from sklearn.metrics import mean_squared_error\n",
    "X = df_hr[['satisfaction_level','last_evaluation','number_project',\n",
    "'average_montly_hours',\n",
    "'time_spend_company',\n",
    "'Work_accident',\n",
    "'promotion_last_5years']]\n",
    "y = df_hr['left']\n",
    "X_train, X_test, y_train, y_test = train_test_split(X, y, test_size=0.30, random_state=42)\n",
    "model = LinearRegression()\n",
    "model.fit(X_train, y_train) \n",
    "\n",
    "y_pred = model.predict(X_test)\n",
    "print('Коэффициент детерминации = ',round(model.score(X_test, y_test),2),'Коэффициент детерминации низкий, модель низкого качества.')\n"
   ]
  },
  {
   "cell_type": "markdown",
   "metadata": {},
   "source": [
    "10. Загрузить jupyter notebook с решение на github и прислать ссылку."
   ]
  }
 ],
 "metadata": {
  "kernelspec": {
   "display_name": "Python 3",
   "language": "python",
   "name": "python3"
  },
  "language_info": {
   "codemirror_mode": {
    "name": "ipython",
    "version": 3
   },
   "file_extension": ".py",
   "mimetype": "text/x-python",
   "name": "python",
   "nbconvert_exporter": "python",
   "pygments_lexer": "ipython3",
   "version": "3.8.5"
  }
 },
 "nbformat": 4,
 "nbformat_minor": 4
}
