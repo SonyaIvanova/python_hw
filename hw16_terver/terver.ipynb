{
 "cells": [
  {
   "cell_type": "markdown",
   "metadata": {},
   "source": [
    "Смоделировать игру против лотерейного автомата типа “777”. Игрок платит 1 руб., после чего выпадает случайное целое число, равномерно распределенное от 0 до 999. При некоторых значениях числа игрок получает выигрыш (см. справа)\n",
    "\n",
    "Выгодна ли игра игроку?\n",
    "\n",
    "Сколько в среднем приобретает\n",
    "или теряет игрок за одну игру?\n",
    "\n",
    "* 777: 200 руб.\n",
    "* 999: 100 руб.\n",
    "* 555: 50 руб.\n",
    "* 333: 15 руб.\n",
    "* 111: 10 руб.\n",
    "* *77: 5 руб.\n",
    "* **7: 3 руб.\n",
    "* *00: 2 руб.\n",
    "* **0: 1 руб.\n",
    "\n",
    "\"*\"любая цифра"
   ]
  },
  {
   "cell_type": "code",
   "execution_count": 59,
   "metadata": {},
   "outputs": [
    {
     "name": "stdout",
     "output_type": "stream",
     "text": [
      "По модели сумма выигрыша 0.81 руб. за одну игру.\n",
      "Теоретическая вероятность суммы выигрыша 0.8 руб. за одну игру.\n"
     ]
    }
   ],
   "source": [
    "import numpy as np\n",
    "# np.random.seed(2)\n",
    "win=0\n",
    "count_wins=0\n",
    "count_lots=100000\n",
    "cnt777, cnt999, cnt555,cnt333,cnt111, cnt77, cnt7,cnt00,cnt0=[0,0,0,0,0,0,0,0,0]\n",
    "lots=np.random.randint(0,1000,count_lots)\n",
    "for lot in lots:\n",
    "    win_loc=0\n",
    "    if lot == 777:\n",
    "        win_loc= 200\n",
    "        cnt777+=1\n",
    "    elif lot == 999:\n",
    "        win_loc=100\n",
    "        cnt999+=1\n",
    "    elif lot==555:\n",
    "        win_loc=50\n",
    "        cnt555+=1\n",
    "    elif lot==333:\n",
    "        win_loc=15\n",
    "        cnt333+=1\n",
    "    elif lot == 111:\n",
    "        win_loc=10\n",
    "        cnt111+=1\n",
    "    elif lot % 100 ==77:\n",
    "        win_loc=5\n",
    "        cnt77+=1\n",
    "    elif lot % 10 == 7:\n",
    "        win_loc=3\n",
    "        cnt7+=1\n",
    "    elif lot % 100 == 0:\n",
    "        win_loc=2\n",
    "        cnt00+=1\n",
    "    elif lot % 10 ==0:\n",
    "        win_loc=1\n",
    "        cnt0+=1\n",
    "    win+=win_loc-1\n",
    "    if win_loc>0:\n",
    "        count_wins+=1\n",
    "print(f'По модели сумма выигрыша',1+round(win/count_lots,2), 'руб. за одну игру.')\n",
    "win_ter=(1/1000*200)+(1/1000*100)+(1/1000*50)+(1/1000*15)+(1/1000*10)+(9/1000*5)+(90/1000*3)+(10/1000*2)+(90/1000*1)\n",
    "print(f'Теоретическая вероятность суммы выигрыша', win_ter,'руб. за одну игру.')\n",
    "        "
   ]
  }
 ],
 "metadata": {
  "kernelspec": {
   "display_name": "Python 3",
   "language": "python",
   "name": "python3"
  },
  "language_info": {
   "codemirror_mode": {
    "name": "ipython",
    "version": 3
   },
   "file_extension": ".py",
   "mimetype": "text/x-python",
   "name": "python",
   "nbconvert_exporter": "python",
   "pygments_lexer": "ipython3",
   "version": "3.8.5"
  }
 },
 "nbformat": 4,
 "nbformat_minor": 4
}
