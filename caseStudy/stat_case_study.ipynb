{
 "cells": [
  {
   "cell_type": "markdown",
   "metadata": {},
   "source": [
    "# Домашнее задание к лекции \"Статистика. Практика\""
   ]
  },
  {
   "cell_type": "markdown",
   "metadata": {},
   "source": [
    "## Задание 1"
   ]
  },
  {
   "cell_type": "markdown",
   "metadata": {},
   "source": [
    "Вернемся к [набору данных о видеоиграх](https://github.com/obulygin/pyda_homeworks/blob/master/stat_case_study/vgsales.csv).\n",
    "\n",
    "Ответьте на следующие вопросы:\n",
    "\n",
    "1) Как критики относятся к спортивным играм?  \n",
    "2) Критикам нравятся больше игры на PC или на PS4?  \n",
    "3) Критикам больше нравятся стрелялки или стратегии?  \n",
    "\n",
    "Для каждого вопроса:\n",
    "- сформулируйте нулевую и альтернативную гипотезы;\n",
    "- выберите пороговый уровень статистической значимости;\n",
    "- опишите полученные результаты статистического теста."
   ]
  },
  {
   "cell_type": "code",
   "execution_count": 1,
   "metadata": {},
   "outputs": [],
   "source": [
    "import pandas as pd\n",
    "df_games=pd.read_csv('vgsales.csv')\n",
    "# print(df_games)\n",
    "# print(df_games.query('Genre==\"Sports\"').Critic_Count.describe())\n",
    "# df_games=df_games.fillna('')\n",
    "# df=df_games[df_games['Genre'].str.contains(\"trate\")]\n",
    "\n",
    "# df"
   ]
  },
  {
   "cell_type": "markdown",
   "metadata": {},
   "source": [
    "Как критики относятся к спортивным играм?\n",
    "проверяем гипотезу (альфа = 0,05)\n",
    "\n",
    "H0: Критики плохо относятся к спортивным играм. Средняя оценка меньше 30 \n",
    "\n",
    "H1: Критики хорошо относятся к спортивным играм. Средняя оценка больше 30 \n",
    "\n",
    "\n",
    "\n"
   ]
  },
  {
   "cell_type": "code",
   "execution_count": 2,
   "metadata": {},
   "outputs": [
    {
     "name": "stdout",
     "output_type": "stream",
     "text": [
      "pvalue= 1.0\n",
      "Не отвергаем нулевую нулевую гипотезу. Критики плохо относятся к спортивным играм. Средняя оценка меньше 30.\n"
     ]
    }
   ],
   "source": [
    "from scipy import stats as st\n",
    "alpha = 0.05\n",
    "n=30\n",
    "H0='Критики плохо относятся к спортивным играм. Средняя оценка меньше '+str(n)+'.'\n",
    "H1='Критики хорошо относятся к спортивным играм. Средняя оценка больше '+str(n)+'.'\n",
    "df=df_games.query('Genre==\"Sports\"')['Critic_Count'].dropna()\n",
    "# print(df_games.query('Genre==\"Sports\"')['Critic_Count'].fillna(0))\n",
    "# print(df[df!=0])\n",
    "\n",
    "result = st.ttest_1samp(df[df!=0], n, alternative='greater')\n",
    "\n",
    "\n",
    "# print(df_games.query('Genre==\"Sports\"').Critic_Count.mean())\n",
    "print('pvalue=',result.pvalue)\n",
    "\n",
    "if result.pvalue < alpha: \n",
    "    print('Отвергаем нулевую гипотезу.',H1)\n",
    "else:\n",
    "    print('Не отвергаем нулевую нулевую гипотезу.',H0)"
   ]
  },
  {
   "cell_type": "markdown",
   "metadata": {},
   "source": [
    "Критикам нравятся больше игры на PC или на PS4?\n",
    "\n",
    "H0: Cредняя оценка критиков одинакова для PS4 и PC\n",
    "\n",
    "\n",
    "H1: Cредняя оценка критиков различается для PS4 и PC"
   ]
  },
  {
   "cell_type": "code",
   "execution_count": 13,
   "metadata": {},
   "outputs": [
    {
     "name": "stdout",
     "output_type": "stream",
     "text": [
      "Ttest_indResult(statistic=6.809285412326379, pvalue=4.219690816212942e-11)\n",
      "Средняя оценка для платформы PS4  38.97\n",
      "Средняя оценка для платформы PС   27.92\n",
      "Отвергаем нулевую гипотезу. Cредняя оценка критиков различается для PS4 и PC\n"
     ]
    },
    {
     "data": {
      "image/png": "[encoded data removed]",
      "text/plain": [
       "<Figure size 432x288 with 1 Axes>"
      ]
     },
     "metadata": {
      "needs_background": "light"
     },
     "output_type": "display_data"
    }
   ],
   "source": [
    "import seaborn as sns\n",
    "H0='Cредняя оценка критиков одинакова для PS4 и PC'\n",
    "\n",
    "H1='Cредняя оценка критиков различается для PS4 и PC'\n",
    "result = st.ttest_ind(df_games.query('Platform==\"PS4\"')['Critic_Count'].dropna(), \n",
    "                      df_games.query('Platform==\"PC\"')['Critic_Count'].dropna(), equal_var=False)\n",
    "print(result)\n",
    "\n",
    "print(f'Средняя оценка для платформы PS4 ', round(df_games.query('Platform==\"PS4\"')['Critic_Count'].dropna().mean(),2))\n",
    "print(f'Средняя оценка для платформы PС  ', round(df_games.query('Platform==\"PC\"')['Critic_Count'].dropna().mean(),2))\n",
    "if (result.pvalue < alpha):\n",
    "    print('Отвергаем нулевую гипотезу.',H1)\n",
    "else:\n",
    "    print('Не отвергаем нулевую гипотезу',H0)\n",
    "sns.histplot(df_games.query('Platform==\"PS4\"')['Critic_Count']);\n",
    "sns.histplot(df_games.query('Platform==\"PC\"')['Critic_Count']);"
   ]
  },
  {
   "cell_type": "markdown",
   "metadata": {},
   "source": [
    "Критикам больше нравятся стрелялки или стратегии?"
   ]
  },
  {
   "cell_type": "code",
   "execution_count": 18,
   "metadata": {},
   "outputs": [
    {
     "name": "stdout",
     "output_type": "stream",
     "text": [
      "Ttest_indResult(statistic=5.802061441694807, pvalue=1.0668209140151195e-08)\n",
      "Средняя оценка для шутеров  35.61\n",
      "Средняя оценка для стратегий  28.27\n",
      "Отвергаем нулевую гипотезу. Cредняя оценка критиков различается для для стрелялок и стратегий\n"
     ]
    },
    {
     "data": {
      "image/png": "[encoded data removed]",
      "text/plain": [
       "<Figure size 432x288 with 1 Axes>"
      ]
     },
     "metadata": {
      "needs_background": "light"
     },
     "output_type": "display_data"
    }
   ],
   "source": [
    "import seaborn as sns\n",
    "H0='Cредняя оценка критиков одинакова для стрелялок и стратегий'\n",
    "\n",
    "H1='Cредняя оценка критиков различается для для стрелялок и стратегий'\n",
    "result = st.ttest_ind(df_games.query('Genre==\"Shooter\"')['Critic_Count'].dropna(), \n",
    "                      df_games.query('Genre==\"Strategy\"')['Critic_Count'].dropna(), equal_var=False)\n",
    "print(result)\n",
    "\n",
    "print(f'Средняя оценка для шутеров ',round(df_games.query('Genre==\"Shooter\"')['Critic_Count'].dropna().mean(),2))\n",
    "print(f'Средняя оценка для стратегий ',round(df_games.query('Genre==\"Strategy\"')['Critic_Count'].dropna().mean(),2))\n",
    "if (result.pvalue < alpha):\n",
    "    print('Отвергаем нулевую гипотезу.',H1)\n",
    "else:\n",
    "    print('Не отвергаем нулевую гипотезу',H0)\n",
    "sns.histplot(df_games.query('Genre==\"Shooter\"')['Critic_Count']);\n",
    "sns.histplot(df_games.query('Genre==\"Strategy\"')['Critic_Count']);"
   ]
  },
  {
   "cell_type": "markdown",
   "metadata": {},
   "source": [
    "## Задание 2"
   ]
  },
  {
   "cell_type": "markdown",
   "metadata": {},
   "source": [
    "Реализуйте базовую модель логистической регрессии для классификации текстовых сообщений (используемые данные [здесь](https://github.com/obulygin/pyda_homeworks/blob/master/stat_case_study/spam.csv)) по признаку спама. Для этого:\n",
    "\n",
    "1) Привидите весь текст к нижнему регистру;  \n",
    "2) Удалите мусорные символы;  \n",
    "3) Удалите стоп-слова;  \n",
    "4) Привидите все слова к нормальной форме;  \n",
    "5) Преобразуйте все сообщения в вектора TF-IDF. Вам поможет следующий код:  \n",
    "\n",
    "```\n",
    "from sklearn.feature_extraction.text import TfidfVectorizer\n",
    "\n",
    "tfidf = TfidfVectorizer()\n",
    "tfidf_matrix = tfidf.fit_transform(df.Message)\n",
    "names = tfidf.get_feature_names()\n",
    "tfidf_matrix = pd.DataFrame(tfidf_matrix.toarray(), columns=names)\n",
    "```\n",
    "\n",
    "Можете поэкспериментировать с параметрами [TfidfVectorizer](https://scikit-learn.org/stable/modules/generated/sklearn.feature_extraction.text.TfidfVectorizer.html);  \n",
    "6) Разделите данные на тестовые и тренировочные в соотношении 30/70, укажите `random_state=42`. Используйте [train_test_split](https://scikit-learn.org/stable/modules/generated/sklearn.model_selection.train_test_split.html);  \n",
    "7) Постройте модель [логистической регрессии](https://scikit-learn.org/stable/modules/generated/sklearn.linear_model.LogisticRegression.html), укажите `random_state=42`, оцените ее точность на тестовых данных;  \n",
    "8) Опишите результаты при помощи [confusion_matrix](https://scikit-learn.org/stable/modules/generated/sklearn.metrics.confusion_matrix.html?highlight=confusion_matrix#sklearn.metrics.confusion_matrix);  \n",
    "9) Постройте датафрейм, который будет содержать все исходные тексты сообщений, классифицированные неправильно (с указанием фактического и предсказанного)."
   ]
  },
  {
   "cell_type": "code",
   "execution_count": 16,
   "metadata": {},
   "outputs": [
    {
     "name": "stdout",
     "output_type": "stream",
     "text": [
      "Оценка модели 0.96\n"
     ]
    }
   ],
   "source": [
    "import pandas as pd\n",
    "import re\n",
    "import nltk\n",
    "from nltk.stem import WordNetLemmatizer\n",
    "from nltk.corpus import stopwords\n",
    "from sklearn.feature_extraction.text import TfidfVectorizer\n",
    "from sklearn.model_selection import train_test_split\n",
    "from sklearn.linear_model import LogisticRegression\n",
    "from sklearn.metrics import confusion_matrix\n",
    "tfidf = TfidfVectorizer()\n",
    "stopwords_set = set(stopwords.words('english'))\n",
    "wordnet_lemmatizer = WordNetLemmatizer()\n",
    "df_spam = pd.read_csv('spam.csv')\n",
    "def normal_message(row):\n",
    "    message=str.lower(row.Message).split()\n",
    "    message=[re.sub('[\\W_]+',' ', text) for text in message]\n",
    "    message=[re.sub('[\\d]+',' ', text) for text in message]\n",
    "    message = [word for word in  message if word not in stopwords_set]\n",
    "    message = [word for word in  message if len(word)>1]\n",
    "    message = [wordnet_lemmatizer.lemmatize(word) for word in message]\n",
    "  \n",
    "    message=(' ').join(message)\n",
    "    return message\n",
    "\n",
    "def vector_message(row):\n",
    "#     vector = tfidf.transform([row.normal]).toarray()[0][0].tolist()\n",
    "    vector = tfidf.transform([row.normal]).toarray()\n",
    "    return vector\n",
    "    \n",
    "    \n",
    "df_spam['normal']=df_spam.apply(normal_message,axis=1)\n",
    "\n",
    "\n",
    "tfidf = TfidfVectorizer()\n",
    "tfidf.fit(df_spam.normal)\n",
    "df_spam['vector']=df_spam.apply(vector_message,axis=1)\n",
    "\n",
    "tfidf = TfidfVectorizer()\n",
    "tfidf_matrix = tfidf.fit_transform(df_spam.normal)\n",
    "names = tfidf.get_feature_names()\n",
    "tfidf_matrix = pd.DataFrame(tfidf_matrix.toarray(), columns=names)\n",
    "\n",
    "\n",
    "X=tfidf_matrix\n",
    "y=df_spam.Category\n",
    "# print(type(X), print(type(y)))\n",
    "X_train, X_test, Y_train, y_test = train_test_split( X, y, test_size=0.30, random_state=42)\n",
    "\n",
    "\n",
    "classifier = LogisticRegression(solver='liblinear',random_state=0)\n",
    "classifier.fit(X_train, Y_train)\n",
    "predicted_y = classifier.predict(X_test)\n",
    "print(f'Оценка модели {round(classifier.score(X_test, y_test),2)}')\n"
   ]
  },
  {
   "cell_type": "code",
   "execution_count": 17,
   "metadata": {},
   "outputs": [
    {
     "data": {
      "image/png": "[encoded data removed]",
      "text/plain": [
       "<Figure size 432x288 with 1 Axes>"
      ]
     },
     "metadata": {
      "needs_background": "light"
     },
     "output_type": "display_data"
    }
   ],
   "source": [
    "import matplotlib.pyplot as plt\n",
    "import numpy as np\n",
    "cf=confusion_matrix(y_test, predicted_y)\n",
    "tn, fp, fn, tp = confusion_matrix(y_test, predicted_y).ravel()\n",
    "\n",
    "plt.clf()\n",
    "plt.imshow(cf, interpolation='nearest', cmap=plt.cm.Wistia)\n",
    "classNames = ['Negative','Positive']\n",
    "plt.title('Confusion matrix')\n",
    "plt.ylabel('True label')\n",
    "plt.xlabel('Predicted label')\n",
    "tick_marks = np.arange(len(classNames))\n",
    "plt.xticks(tick_marks, classNames, rotation=45)\n",
    "plt.yticks(tick_marks, classNames)\n",
    "s = [['TN','FP'], ['FN', 'TP']]\n",
    "for i in range(2):\n",
    "    for j in range(2):\n",
    "        plt.text(j,i, str(s[i][j])+\" = \"+str(cf[i][j]))\n",
    "plt.show()"
   ]
  },
  {
   "cell_type": "code",
   "execution_count": 18,
   "metadata": {},
   "outputs": [
    {
     "name": "stdout",
     "output_type": "stream",
     "text": [
      "Датафрейм, с исходными текстами в количестве  63 сообщений, классифицированные неправильно\n",
      "      predict Category                                            Message\n",
      "index                                                                    \n",
      "881       ham     spam  Reminder: You have not downloaded the content ...\n",
      "1961      ham     spam  Guess what! Somebody you know secretly fancies...\n",
      "3864      ham     spam  Oh my god! I've found your number again! I'm s...\n",
      "2575      ham     spam  Your next amazing xxx PICSFREE1 video will be ...\n",
      "3548      ham     spam  Rock yr chik. Get 100's of filthy films &XXX p...\n",
      "...       ...      ...                                                ...\n",
      "4543      ham     spam  FreeMsg Hi baby wow just got a new cam moby. W...\n",
      "752       ham     spam  You have an important customer service announc...\n",
      "309       ham     spam  TheMob> Check out our newest selection of cont...\n",
      "495      spam      ham                   Are you free now?can i call now?\n",
      "305       ham     spam  SMS. ac Blind Date 4U!: Rodds1 is 21/m from Ab...\n",
      "\n",
      "[63 rows x 3 columns]\n"
     ]
    }
   ],
   "source": [
    "\n",
    "df_result=pd.DataFrame([y_test.index,y_test.values,predicted_y]).T\n",
    "df_result.columns=['index','real','predict']\n",
    "df_diff=df_result.query('real!=predict').set_index('index')\n",
    "df_diff=df_diff.join(df_spam.reset_index(),on='index')\n",
    "print(f'Датафрейм, с исходными текстами в количестве  {df_diff.count()[0]} сообщений, классифицированные неправильно')\n",
    "print(df_diff[['predict','Category','Message']])\n",
    "# df_diff[['predict','Category','Message']].to_csv('result.csv')\n"
   ]
  },
  {
   "cell_type": "markdown",
   "metadata": {},
   "source": [
    "#### ПРИМЕЧАНИЕ\n",
    "Домашнее задание сдается ссылкой на репозиторий [GitHub](https://github.com/).\n",
    "Не сможем проверить или помочь, если вы пришлете:\n",
    "- файлы;\n",
    "- архивы;\n",
    "- скриншоты кода.\n",
    "\n",
    "Все обсуждения и консультации по выполнению домашнего задания ведутся только на соответствующем канале в slack.\n",
    "\n",
    "##### Как правильно задавать вопросы аспирантам, преподавателям и коллегам?\n",
    "Прежде чем задать вопрос необходимо попробовать найти ответ самому в интернете. Навык самостоятельного поиска информации – один из важнейших, и каждый практикующий специалист любого уровня это делает каждый день.\n",
    "\n",
    "Любой вопрос должен быть сформулирован по алгоритму:  \n",
    "1) Что я делаю?  \n",
    "2) Какого результата я ожидаю?  \n",
    "3) Как фактический результат отличается от ожидаемого?  \n",
    "4) Что я уже попробовал сделать, чтобы исправить проблему?  \n",
    "\n",
    "По возможности, прикрепляйте к вопросу скриншоты, либо ссылки на код. Оставляйте только проблемный и воспроизводимый участок кода, все решение выкладывать не допускается.\n"
   ]
  },
  {
   "cell_type": "code",
   "execution_count": 4,
   "metadata": {},
   "outputs": [
    {
     "name": "stdout",
     "output_type": "stream",
     "text": [
      "showing info https://raw.githubusercontent.com/nltk/nltk_data/gh-pages/index.xml\n"
     ]
    },
    {
     "data": {
      "text/plain": [
       "True"
      ]
     },
     "execution_count": 4,
     "metadata": {},
     "output_type": "execute_result"
    }
   ],
   "source": [
    "import nltk\n",
    "nltk.download()"
   ]
  }
 ],
 "metadata": {
  "kernelspec": {
   "display_name": "Python 3",
   "language": "python",
   "name": "python3"
  },
  "language_info": {
   "codemirror_mode": {
    "name": "ipython",
    "version": 3
   },
   "file_extension": ".py",
   "mimetype": "text/x-python",
   "name": "python",
   "nbconvert_exporter": "python",
   "pygments_lexer": "ipython3",
   "version": "3.8.5"
  }
 },
 "nbformat": 4,
 "nbformat_minor": 2
}
