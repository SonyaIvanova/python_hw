{
 "cells": [
  {
   "cell_type": "markdown",
   "metadata": {},
   "source": [
    "### Задание 1\n",
    "Скачайте с сайта https://grouplens.org/datasets/movielens/ датасет любого размера. Определите какому фильму было выставлено больше всего оценок 5.0.\n"
   ]
  },
  {
   "cell_type": "code",
   "execution_count": 3,
   "metadata": {},
   "outputs": [
    {
     "name": "stdout",
     "output_type": "stream",
     "text": [
      "Toy Story (1995)\n"
     ]
    }
   ],
   "source": [
    "import pandas as pd\n",
    "\n",
    "rating = pd.read_csv('D:\\\\python_hw\\\\db\\\\ratings.csv')\n",
    "\n",
    "movies = pd.read_csv('D:\\\\python_hw\\\\db\\\\movies.csv')\n",
    "rating.head()\n",
    "movies.head()\n",
    "# rating.query('rating==5').groupby('movieId')['movieId'].count().sort_values('movieId', ascending=True).head()\n",
    "movieId=rating.query('rating==5').groupby('movieId')['movieId'].count().reset_index(name='count').sort_values('movieId', ascending=True).head(1)['movieId']\n",
    "# print(movieId[0])\n",
    "title_film=movies.query('movieId=='+str(movieId[0]))\n",
    "print(title_film.title[0])"
   ]
  },
  {
   "cell_type": "markdown",
   "metadata": {},
   "source": [
    "### Задание 2\n",
    "По данным файла power.csv посчитайте суммарное потребление стран Прибалтики (Латвия, Литва и Эстония) категорий 4, 12 и 21 за период с 2005 по 2010 года. Не учитывайте в расчетах отрицательные значения quantity."
   ]
  },
  {
   "cell_type": "code",
   "execution_count": 2,
   "metadata": {},
   "outputs": [
    {
     "name": "stdout",
     "output_type": "stream",
     "text": [
      "240580.0\n"
     ]
    }
   ],
   "source": [
    "import pandas as pd\n",
    "\n",
    "power = pd.read_csv('D:\\\\python_hw\\\\db\\\\power.csv')\n",
    "filter_countries=['Latvia','Lithuania','Estonia']\n",
    "filter_categories=[4,12,21]\n",
    "print(power.query('country==@filter_countries & category==@filter_categories  & quantity>0 & (year>=2005 & year<=2010) ').agg({'quantity':'sum'})[0])\n"
   ]
  },
  {
   "cell_type": "markdown",
   "metadata": {},
   "source": [
    "### Задание 3\n",
    "Выберите страницу любого сайта с табличными данными. Импортируйте таблицы в pandas dataframe.\n",
    "Примеры страниц (необязательно брать именно эти):\n",
    "https://fortrader.org/quotes\n",
    "https://www.finanz.ru/valyuty/v-realnom-vremeni"
   ]
  },
  {
   "cell_type": "code",
   "execution_count": 1,
   "metadata": {},
   "outputs": [
    {
     "name": "stdout",
     "output_type": "stream",
     "text": [
      "     0       1      2        3       4      5        6       7      8   \\\n",
      "0  ММВБ   3 475  -0,8%   Nasdaq  13 215   0,8%  Биткойн  57 540   0,1%   \n",
      "1   РТС   1 474  -1,0%   S&P500   3 913  -0,1%    Нефть     642  -0,4%   \n",
      "2   Dow  32 628  -0,7%  FTSE100   6 709  -1,1%   Золото   1 741   0,0%   \n",
      "\n",
      "        9       10    11  \n",
      "0  USD/RUB  743077  0,2%  \n",
      "1  EUR/RUB  883225  0,1%  \n",
      "2  EUR/USD   11895  0,1%  \n"
     ]
    }
   ],
   "source": [
    "import pandas as pd\n",
    "df=pd.read_html('https://www.finanz.ru/valyuty/v-realnom-vremeni', encoding='UTF-8')[0]\n",
    "print(df)"
   ]
  }
 ],
 "metadata": {
  "kernelspec": {
   "display_name": "Python 3",
   "language": "python",
   "name": "python3"
  },
  "language_info": {
   "codemirror_mode": {
    "name": "ipython",
    "version": 3
   },
   "file_extension": ".py",
   "mimetype": "text/x-python",
   "name": "python",
   "nbconvert_exporter": "python",
   "pygments_lexer": "ipython3",
   "version": "3.8.5"
  }
 },
 "nbformat": 4,
 "nbformat_minor": 4
}
